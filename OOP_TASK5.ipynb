{
  "nbformat": 4,
  "nbformat_minor": 0,
  "metadata": {
    "colab": {
      "name": "OOP_TASK5.ipynb",
      "provenance": [],
      "authorship_tag": "ABX9TyNn3aATtJVsVU/a0jxVrS8F",
      "include_colab_link": true
    },
    "kernelspec": {
      "name": "python3",
      "display_name": "Python 3"
    },
    "language_info": {
      "name": "python"
    }
  },
  "cells": [
    {
      "cell_type": "markdown",
      "metadata": {
        "id": "view-in-github",
        "colab_type": "text"
      },
      "source": [
        "<a href=\"https://colab.research.google.com/github/heyseebo89/OOP_TASK5/blob/main/OOP_TASK5.ipynb\" target=\"_parent\"><img src=\"https://colab.research.google.com/assets/colab-badge.svg\" alt=\"Open In Colab\"/></a>"
      ]
    },
    {
      "cell_type": "code",
      "metadata": {
        "colab": {
          "base_uri": "https://localhost:8080/"
        },
        "id": "-cR2r4ZSPcRo",
        "outputId": "9c1058a6-aa7a-40da-d898-27525f2758d3"
      },
      "source": [
        "import math as mt\n",
        "\n",
        "class Shape:\n",
        "\n",
        "  def __init__(self, shape):\n",
        "    self.shape = shape\n",
        "\n",
        "  def area(self):\n",
        "    pass  \n",
        "\n",
        "class circle(Shape):\n",
        "\n",
        "  def __init__(self, radius):\n",
        "    self.radius = radius\n",
        "\n",
        "  def area(self):\n",
        "    print((mt.pi)*(self.radius)**2)\n",
        "\n",
        "class square(Shape):\n",
        "  \n",
        "  def __init__(self, side):\n",
        "    self.side = side\n",
        "\n",
        "  def area(self):\n",
        "    print((self.side)**2)\n",
        "\n",
        "class rectangle(Shape):\n",
        "\n",
        "  def __init__(self, length, breadth):\n",
        "    self.length = length\n",
        "    self.breadth = breadth\n",
        "\n",
        "  def area(self):\n",
        "    print(self.length*self.breadth)\n",
        "\n",
        "shape1 = circle(3)\n",
        "shape1.area()  \n",
        "\n",
        "shape2 = square(10)\n",
        "shape2.area()\n",
        "\n",
        "shape3 = rectangle(13,14)\n",
        "shape3.area()"
      ],
      "execution_count": 1,
      "outputs": [
        {
          "output_type": "stream",
          "name": "stdout",
          "text": [
            "28.274333882308138\n",
            "100\n",
            "182\n"
          ]
        }
      ]
    },
    {
      "cell_type": "code",
      "metadata": {
        "colab": {
          "base_uri": "https://localhost:8080/"
        },
        "id": "FdDPXv8hQlQq",
        "outputId": "c4e47c09-872b-484e-9ee0-d2ccb390a535"
      },
      "source": [
        "class Travel:\n",
        "\n",
        "  def __init__(self, travel):\n",
        "    self.travel = travel\n",
        "\n",
        "  def __number_of_passangers(self):\n",
        "    pass\n",
        "\n",
        "  def distance(self):\n",
        "    pass\n",
        "\n",
        "  def mode(self):\n",
        "    pass\n",
        "\n",
        "class train(Travel):\n",
        "\n",
        "  def __init__(self, total_passangers):\n",
        "    self.total_passangers = total_passangers\n",
        "\n",
        "  def cost_of_transport(self):\n",
        "    print(self.total_passangers*60)\n",
        "\n",
        "class bus(Travel):\n",
        "\n",
        "  def __init__(self, total_passangers):\n",
        "    self.total_passangers = total_passangers\n",
        "\n",
        "  def cost_of_transport(self):\n",
        "    print(self.total_passangers*100)\n",
        "\n",
        "mode1 = train(2000)\n",
        "mode1.cost_of_transport()\n",
        "\n",
        "mode2 = bus(60)\n",
        "mode2.cost_of_transport()"
      ],
      "execution_count": 2,
      "outputs": [
        {
          "output_type": "stream",
          "name": "stdout",
          "text": [
            "120000\n",
            "6000\n"
          ]
        }
      ]
    },
    {
      "cell_type": "code",
      "metadata": {
        "colab": {
          "base_uri": "https://localhost:8080/"
        },
        "id": "UmV4ccXrQohd",
        "outputId": "cab81e95-3778-45b0-e294-ff3d43bf7132"
      },
      "source": [
        "class Car:\n",
        "    def __init__(self, number, color, price):\n",
        "        self.number = number\n",
        "        self.color = color\n",
        "        self.price = price\n",
        "    \n",
        "    def setNum(self, num):\n",
        "        self.number = num\n",
        "\n",
        "def swapNumber(obj1, obj2):\n",
        "    temp = obj1.number \n",
        "    obj1.setNum(obj2.number)\n",
        "    obj2.setNum(temp)\n",
        "\n",
        "c1 = Car(20, 'Red', 8000000)\n",
        "c2 = Car(30, 'White', 7000000)\n",
        "print(\"Before: c1's number: {0} and c2's number: {1}\".format(c1.number, c2.number))\n",
        "swapNumber(c1, c2)\n",
        "print(\"After : c1's number: {0} and c2's number: {1}\".format(c1.number, c2.number))"
      ],
      "execution_count": 3,
      "outputs": [
        {
          "output_type": "stream",
          "name": "stdout",
          "text": [
            "Before: c1's number: 20 and c2's number: 30\n",
            "After : c1's number: 30 and c2's number: 20\n"
          ]
        }
      ]
    }
  ]
}